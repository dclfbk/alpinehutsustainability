{
 "cells": [
  {
   "cell_type": "code",
   "execution_count": null,
   "metadata": {},
   "outputs": [],
   "source": [
    "import earthaccess\n",
    "import os\n",
    "import xarray as xr\n",
    "\n",
    "import warnings\n",
    "warnings.simplefilter(\"ignore\")"
   ]
  },
  {
   "cell_type": "code",
   "execution_count": null,
   "metadata": {},
   "outputs": [],
   "source": [
    "## After creating an account at Nasa EarthData, I used this script for creating ~/.netrc login file\n",
    "## Credits: https://cheginit.github.io/til/web_service/netrc.html \n",
    "from netrc import netrc\n",
    "from typing import Dict\n",
    "from getpass import getpass\n",
    "from pathlib import Path\n",
    "\n",
    "def setup_urs_login(urs: str) -> None:\n",
    "    prompts = {\n",
    "        \"login\": \"\\n\".join(\n",
    "            [\n",
    "                \"Enter NASA EarthData Login Username\",\n",
    "                f\"(or create an account at {urs}): \",\n",
    "            ]\n",
    "        ),\n",
    "        \"password\": \"Enter NASA EarthData Login Password: \",\n",
    "    }\n",
    "\n",
    "    netrc_file = Path.home().joinpath(\".netrc\")\n",
    "\n",
    "    try:\n",
    "        netrc(netrc_file).authenticators(urs)[1]\n",
    "    except (FileNotFoundError, TypeError) as exc:\n",
    "        user_data = {p: getpass(prompt=msg) for p, msg in prompts.items()}\n",
    "\n",
    "        fmode = \"w\" if exc.__class__ == FileNotFoundError else \"a\"\n",
    "        with open(netrc_file, fmode) as f:\n",
    "            msg = f\"machine {urs}\\n\"\n",
    "            msg += \"\\n\".join(f\"{p} {m}\" for p, m in user_data.items())\n",
    "            f.write(msg)\n",
    "    print(f\"User-pass info successfully set for {urs}.\")\n",
    "\n",
    "setup_urs_login(\"https://urs.earthdata.nasa.gov\")"
   ]
  },
  {
   "cell_type": "markdown",
   "metadata": {},
   "source": [
    "# Data retrieval\n",
    "Dataset: [MODIS/Terra CGF Snow Cover Daily L3 Global 500m SIN Grid, Version 61](https://nsidc.org/data/mod10a1f/versions/61)\n",
    "\n",
    "More details about code: [earthdata quick start](https://earthaccess.readthedocs.io/en/latest/quick-start/) and [search granules](https://earthaccess.readthedocs.io/en/latest/howto/search-granules/)"
   ]
  },
  {
   "cell_type": "code",
   "execution_count": null,
   "metadata": {},
   "outputs": [],
   "source": [
    "# Step 1: login (uses credentials in .netcr file)\n",
    "session = earthaccess.login()\n",
    "session.authenticated"
   ]
  },
  {
   "cell_type": "code",
   "execution_count": null,
   "metadata": {},
   "outputs": [],
   "source": [
    "# Step 2: search for data\n",
    "bbox_4326 = (10.46750857, 45.69873184, 11.94937569, 46.53633029) # TRENTINO\n",
    "\n",
    "results = earthaccess.search_data(\n",
    "    short_name = \"MOD10A1F\", # dataset\n",
    "    version = \"61\",\n",
    "    #cloud_hosted = True,\n",
    "    bounding_box = bbox_4326,\n",
    "    temporal = (\"2022-12-06\", \"2022-12-06\"),\n",
    "    count = -1 # all\n",
    ")\n",
    "results\n"
   ]
  },
  {
   "cell_type": "code",
   "execution_count": null,
   "metadata": {},
   "outputs": [],
   "source": [
    "# Step 3: Download\n",
    "destination_dir = \"../data/MODIS/\"\n",
    "os.makedirs(destination_dir, exist_ok=True)\n",
    "files = earthaccess.download(results, destination_dir)\n"
   ]
  },
  {
   "cell_type": "code",
   "execution_count": null,
   "metadata": {},
   "outputs": [],
   "source": [
    "## I use the local file to inspect structure\n",
    "from pyhdf.SD import SD, SDC\n",
    "\n",
    "local_file = \"../data/MODIS/MOD10A1F.A2022340.h18v04.061.2022351140722.hdf\"\n",
    "\n",
    "# Open the HDF4 file using pyhdf\n",
    "hdf = SD(local_file, SDC.READ)\n",
    "\n",
    "# Get the available datasets\n",
    "datasets = hdf.datasets()\n",
    "print(\"Datasets:\")\n",
    "datasets"
   ]
  },
  {
   "cell_type": "code",
   "execution_count": null,
   "metadata": {},
   "outputs": [],
   "source": [
    "dataset_names = list(datasets.keys())\n",
    "\n",
    "# Then you can use the dataset name to open it\n",
    "dataset = hdf.select(dataset_names[0])  # Selecting the first dataset\n",
    "data = dataset.get()               # Get data from the selected dataset\n",
    "data"
   ]
  },
  {
   "cell_type": "code",
   "execution_count": null,
   "metadata": {},
   "outputs": [],
   "source": [
    "# Alternative Step 3: open (lits of file-like objects)\n",
    "granules = earthaccess.open(results)\n",
    "granules"
   ]
  },
  {
   "cell_type": "code",
   "execution_count": null,
   "metadata": {},
   "outputs": [],
   "source": [
    "# use xarray to open the file-like object and extract the desired region\n",
    "url = granules[0]\n",
    "ds = xr.open_dataset(url, engine=\"h5netcdf\")\n",
    "ds"
   ]
  }
 ],
 "metadata": {
  "kernelspec": {
   "display_name": "venv",
   "language": "python",
   "name": "python3"
  },
  "language_info": {
   "codemirror_mode": {
    "name": "ipython",
    "version": 3
   },
   "file_extension": ".py",
   "mimetype": "text/x-python",
   "name": "python",
   "nbconvert_exporter": "python",
   "pygments_lexer": "ipython3",
   "version": "3.10.7"
  }
 },
 "nbformat": 4,
 "nbformat_minor": 2
}
