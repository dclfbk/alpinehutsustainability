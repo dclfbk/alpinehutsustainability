{
 "cells": [
  {
   "cell_type": "code",
   "execution_count": 1,
   "metadata": {},
   "outputs": [
    {
     "name": "stderr",
     "output_type": "stream",
     "text": [
      "/Users/sarategoni/Documents/tesi_rifugi/alpinehutsustainability/venv/lib/python3.10/site-packages/fuzzywuzzy/fuzz.py:11: UserWarning: Using slow pure-python SequenceMatcher. Install python-Levenshtein to remove this warning\n",
      "  warnings.warn('Using slow pure-python SequenceMatcher. Install python-Levenshtein to remove this warning')\n"
     ]
    }
   ],
   "source": [
    "import geopandas as gpd\n",
    "import pandas as pd\n",
    "import os\n",
    "import glob\n",
    "import requests\n",
    "import zipfile\n",
    "import matplotlib.pyplot as plt\n",
    "import overpass\n",
    "from shapely.geometry import Point, MultiPoint\n",
    "from fuzzywuzzy import process"
   ]
  },
  {
   "cell_type": "code",
   "execution_count": 2,
   "metadata": {},
   "outputs": [],
   "source": [
    "import warnings\n",
    "warnings.simplefilter(\"ignore\")"
   ]
  },
  {
   "cell_type": "markdown",
   "metadata": {},
   "source": [
    "# Cadastral data\n",
    "## Download \n",
    "Source: https://catastotn.tndigit.it/scarico-catasto-geometrico/it/index.html"
   ]
  },
  {
   "cell_type": "code",
   "execution_count": null,
   "metadata": {},
   "outputs": [],
   "source": [
    "download_url = \"https://catastotn.tndigit.it/export_semestrale_VL_PUBB/IDR0020240701_TIPOCATSH_CCXXX.zip\"\n",
    "url_csv = \"../data/huts/catasto_rifugi.csv\"\n",
    "\n",
    "cadastre_huts_df = pd.read_csv(url_csv)\n",
    "codici_catastali = cadastre_huts_df.codice_comune_catastale.unique()\n",
    "codici_catastali"
   ]
  },
  {
   "cell_type": "code",
   "execution_count": 4,
   "metadata": {},
   "outputs": [],
   "source": [
    "# Request cadastral data for municipalities containing huts\n",
    "gdflist = []\n",
    "for codice in codici_catastali:\n",
    "    codice = str(codice).zfill(3).replace(\".0\",\"\")\n",
    "    url = download_url.replace(\"XXX\",codice)\n",
    "    response = requests.get(url)\n",
    "    # Elenca i nomi dei file che vuoi estrarre\n",
    "    files_to_extract = []\n",
    "    suffix = \"_vl_uniqueparcel_poly\"\n",
    "    suffix = \"_vl_parcel_poly\"\n",
    "    files_to_extract.append(codice + suffix + \".prj\")\n",
    "    files_to_extract.append(codice + suffix + \".shp\")\n",
    "    files_to_extract.append(codice + suffix + \".shx\")\n",
    "    files_to_extract.append(codice + suffix + \".dbf\")\n",
    "    if response.status_code == 200:\n",
    "        with open(\"file.zip\", \"wb\") as file:\n",
    "            file.write(response.content)\n",
    "        with zipfile.ZipFile(\"file.zip\", \"r\") as zip_ref:\n",
    "            for file_name in zip_ref.namelist():\n",
    "                if file_name in files_to_extract:\n",
    "                    zip_ref.extract(file_name)\n",
    "        gdf = gpd.read_file(codice + suffix + \".shp\")\n",
    "        crs = gdf.crs\n",
    "        gdflist.append(gdf)\n",
    "        os.remove(\"file.zip\")\n",
    "        for shp in files_to_extract:\n",
    "            os.remove(shp)\n",
    "parcels = gpd.GeoDataFrame(pd.concat(gdflist, ignore_index=True), crs=crs)"
   ]
  },
  {
   "cell_type": "code",
   "execution_count": null,
   "metadata": {},
   "outputs": [],
   "source": [
    "parcels"
   ]
  },
  {
   "cell_type": "code",
   "execution_count": 6,
   "metadata": {},
   "outputs": [],
   "source": [
    "parcels = parcels.to_crs(epsg=4326)"
   ]
  },
  {
   "cell_type": "code",
   "execution_count": 7,
   "metadata": {},
   "outputs": [],
   "source": [
    "#parcels.plot()"
   ]
  },
  {
   "cell_type": "markdown",
   "metadata": {},
   "source": [
    "I only need the parcels of the huts, which I know the codes (PT_CODE) from ../data/huts/catasto_rifugi.csv, so I filter and save as a new dataframe (polygons_gdf)"
   ]
  },
  {
   "cell_type": "code",
   "execution_count": 21,
   "metadata": {},
   "outputs": [],
   "source": [
    "polygons_gdf = gpd.GeoDataFrame()\n",
    "for idx, rif in cadastre_huts_df.iterrows():\n",
    "  rif_particella = parcels[(parcels['PT_CODE'] == rif['codice_part_ed']) & (parcels['PT_CCAT'] == rif['codice_comune_catastale'])]\n",
    "  if rif['rifugio_nome'] == 'Spruggio - \"G.Tonini\"':\n",
    "    continue\n",
    "  if not rif_particella.empty:\n",
    "    polygons_gdf = pd.concat([polygons_gdf, rif_particella])\n",
    "  else:\n",
    "    print(rif['rifugio_nome'], \"not found!\") "
   ]
  },
  {
   "cell_type": "markdown",
   "metadata": {},
   "source": [
    "Each hut is registered with multiple geometries for the same parcel code, we can plot them together to see the total area of the hut:"
   ]
  },
  {
   "cell_type": "code",
   "execution_count": null,
   "metadata": {},
   "outputs": [],
   "source": [
    "# Rifugio Dorigoni\n",
    "polygons_gdf[(polygons_gdf['PT_CODE'] == \"5239/2\") & (polygons_gdf['PT_CCAT'] == 300)].plot(column='PT_TYPE', legend=True)"
   ]
  },
  {
   "cell_type": "code",
   "execution_count": 25,
   "metadata": {},
   "outputs": [],
   "source": [
    "# Save in a file (optional)\n",
    "polygons_gdf.to_file(\"../data/huts/huts_parcels_downloaded.geojson\")"
   ]
  },
  {
   "cell_type": "markdown",
   "metadata": {},
   "source": [
    "## Hut names\n",
    "I add hut names for interpretability. I use standardized names from the rifugio_nome column of cadastral information .csv"
   ]
  },
  {
   "cell_type": "code",
   "execution_count": 3,
   "metadata": {},
   "outputs": [],
   "source": [
    "def standardize_name(name):\n",
    "    ''' converts names to lowercase, strips leading and trailing whitespace, \n",
    "    and removes non-alphanumeric characters.\n",
    "    '''\n",
    "    return ''.join(e for e in name.lower().strip() if e.isalnum())"
   ]
  },
  {
   "cell_type": "code",
   "execution_count": 4,
   "metadata": {},
   "outputs": [
    {
     "data": {
      "text/html": [
       "<div>\n",
       "<style scoped>\n",
       "    .dataframe tbody tr th:only-of-type {\n",
       "        vertical-align: middle;\n",
       "    }\n",
       "\n",
       "    .dataframe tbody tr th {\n",
       "        vertical-align: top;\n",
       "    }\n",
       "\n",
       "    .dataframe thead th {\n",
       "        text-align: right;\n",
       "    }\n",
       "</style>\n",
       "<table border=\"1\" class=\"dataframe\">\n",
       "  <thead>\n",
       "    <tr style=\"text-align: right;\">\n",
       "      <th></th>\n",
       "      <th>PT_TYPE</th>\n",
       "      <th>PT_CODE</th>\n",
       "      <th>PT_CCAT</th>\n",
       "      <th>PT_FABB</th>\n",
       "      <th>PT_PUB</th>\n",
       "      <th>geometry</th>\n",
       "    </tr>\n",
       "  </thead>\n",
       "  <tbody>\n",
       "    <tr>\n",
       "      <th>0</th>\n",
       "      <td>C</td>\n",
       "      <td>.690</td>\n",
       "      <td>404</td>\n",
       "      <td>N</td>\n",
       "      <td>YES</td>\n",
       "      <td>POLYGON ((11.14523 45.82734, 11.14514 45.82733...</td>\n",
       "    </tr>\n",
       "    <tr>\n",
       "      <th>1</th>\n",
       "      <td>P</td>\n",
       "      <td>.690</td>\n",
       "      <td>404</td>\n",
       "      <td>S</td>\n",
       "      <td>YES</td>\n",
       "      <td>POLYGON ((11.1448 45.82735, 11.14487 45.82735,...</td>\n",
       "    </tr>\n",
       "    <tr>\n",
       "      <th>2</th>\n",
       "      <td>C</td>\n",
       "      <td>.690</td>\n",
       "      <td>404</td>\n",
       "      <td>S</td>\n",
       "      <td>YES</td>\n",
       "      <td>POLYGON ((11.1448 45.82735, 11.1448 45.82735, ...</td>\n",
       "    </tr>\n",
       "    <tr>\n",
       "      <th>3</th>\n",
       "      <td>P</td>\n",
       "      <td>.1367</td>\n",
       "      <td>44</td>\n",
       "      <td>N</td>\n",
       "      <td>YES</td>\n",
       "      <td>POLYGON ((10.89031 45.81007, 10.89031 45.81007...</td>\n",
       "    </tr>\n",
       "    <tr>\n",
       "      <th>4</th>\n",
       "      <td>C</td>\n",
       "      <td>.1367</td>\n",
       "      <td>44</td>\n",
       "      <td>S</td>\n",
       "      <td>YES</td>\n",
       "      <td>POLYGON ((10.89047 45.81044, 10.89031 45.81042...</td>\n",
       "    </tr>\n",
       "  </tbody>\n",
       "</table>\n",
       "</div>"
      ],
      "text/plain": [
       "  PT_TYPE PT_CODE  PT_CCAT PT_FABB PT_PUB  \\\n",
       "0       C    .690      404       N    YES   \n",
       "1       P    .690      404       S    YES   \n",
       "2       C    .690      404       S    YES   \n",
       "3       P   .1367       44       N    YES   \n",
       "4       C   .1367       44       S    YES   \n",
       "\n",
       "                                            geometry  \n",
       "0  POLYGON ((11.14523 45.82734, 11.14514 45.82733...  \n",
       "1  POLYGON ((11.1448 45.82735, 11.14487 45.82735,...  \n",
       "2  POLYGON ((11.1448 45.82735, 11.1448 45.82735, ...  \n",
       "3  POLYGON ((10.89031 45.81007, 10.89031 45.81007...  \n",
       "4  POLYGON ((10.89047 45.81044, 10.89031 45.81042...  "
      ]
     },
     "execution_count": 4,
     "metadata": {},
     "output_type": "execute_result"
    }
   ],
   "source": [
    "polygons_gdf = gpd.read_file('../data/huts/huts_parcels_downloaded.geojson')\n",
    "polygons_gdf.head(5)"
   ]
  },
  {
   "cell_type": "code",
   "execution_count": 5,
   "metadata": {},
   "outputs": [
    {
     "data": {
      "text/html": [
       "<div>\n",
       "<style scoped>\n",
       "    .dataframe tbody tr th:only-of-type {\n",
       "        vertical-align: middle;\n",
       "    }\n",
       "\n",
       "    .dataframe tbody tr th {\n",
       "        vertical-align: top;\n",
       "    }\n",
       "\n",
       "    .dataframe thead th {\n",
       "        text-align: right;\n",
       "    }\n",
       "</style>\n",
       "<table border=\"1\" class=\"dataframe\">\n",
       "  <thead>\n",
       "    <tr style=\"text-align: right;\">\n",
       "      <th></th>\n",
       "      <th>num</th>\n",
       "      <th>rifugio_nome</th>\n",
       "      <th>codice_comune_catastale</th>\n",
       "      <th>nome_comune_catastale</th>\n",
       "      <th>codice_part_ed</th>\n",
       "      <th>codice_part_f</th>\n",
       "      <th>note</th>\n",
       "    </tr>\n",
       "  </thead>\n",
       "  <tbody>\n",
       "    <tr>\n",
       "      <th>0</th>\n",
       "      <td>1</td>\n",
       "      <td>Alpe Pozza - \"V.Lancia\"</td>\n",
       "      <td>404</td>\n",
       "      <td>TRAMBILENO</td>\n",
       "      <td>.690</td>\n",
       "      <td>-999</td>\n",
       "      <td>NaN</td>\n",
       "    </tr>\n",
       "    <tr>\n",
       "      <th>1</th>\n",
       "      <td>2</td>\n",
       "      <td>Altissimo - \"D.Chiesa\"</td>\n",
       "      <td>44</td>\n",
       "      <td>BRENTONICO</td>\n",
       "      <td>.1367</td>\n",
       "      <td>-999</td>\n",
       "      <td>NaN</td>\n",
       "    </tr>\n",
       "    <tr>\n",
       "      <th>2</th>\n",
       "      <td>3</td>\n",
       "      <td>Antermoia</td>\n",
       "      <td>223</td>\n",
       "      <td>MAZZIN</td>\n",
       "      <td>.329</td>\n",
       "      <td>-999</td>\n",
       "      <td>NaN</td>\n",
       "    </tr>\n",
       "    <tr>\n",
       "      <th>3</th>\n",
       "      <td>4</td>\n",
       "      <td>Bindesi - \"P.Prati\"</td>\n",
       "      <td>439</td>\n",
       "      <td>VILLAZZANO</td>\n",
       "      <td>.894</td>\n",
       "      <td>-999</td>\n",
       "      <td>NaN</td>\n",
       "    </tr>\n",
       "    <tr>\n",
       "      <th>4</th>\n",
       "      <td>5</td>\n",
       "      <td>Bocca di Trat - \"N.Pernici\"</td>\n",
       "      <td>307</td>\n",
       "      <td>RIVA</td>\n",
       "      <td>.1886</td>\n",
       "      <td>185/2</td>\n",
       "      <td>NaN</td>\n",
       "    </tr>\n",
       "  </tbody>\n",
       "</table>\n",
       "</div>"
      ],
      "text/plain": [
       "   num                 rifugio_nome  codice_comune_catastale  \\\n",
       "0    1      Alpe Pozza - \"V.Lancia\"                      404   \n",
       "1    2       Altissimo - \"D.Chiesa\"                       44   \n",
       "2    3                    Antermoia                      223   \n",
       "3    4          Bindesi - \"P.Prati\"                      439   \n",
       "4    5  Bocca di Trat - \"N.Pernici\"                      307   \n",
       "\n",
       "  nome_comune_catastale codice_part_ed codice_part_f note  \n",
       "0            TRAMBILENO           .690          -999  NaN  \n",
       "1            BRENTONICO          .1367          -999  NaN  \n",
       "2                MAZZIN           .329          -999  NaN  \n",
       "3            VILLAZZANO           .894          -999  NaN  \n",
       "4                  RIVA          .1886         185/2  NaN  "
      ]
     },
     "execution_count": 5,
     "metadata": {},
     "output_type": "execute_result"
    }
   ],
   "source": [
    "# Hut names in the cadastral data\n",
    "cadastre_huts_df = pd.read_csv('../data/huts/catasto_rifugi.csv')\n",
    "cadastre_huts_df.head(5)"
   ]
  },
  {
   "cell_type": "code",
   "execution_count": 6,
   "metadata": {},
   "outputs": [
    {
     "data": {
      "text/html": [
       "<div>\n",
       "<style scoped>\n",
       "    .dataframe tbody tr th:only-of-type {\n",
       "        vertical-align: middle;\n",
       "    }\n",
       "\n",
       "    .dataframe tbody tr th {\n",
       "        vertical-align: top;\n",
       "    }\n",
       "\n",
       "    .dataframe thead th {\n",
       "        text-align: right;\n",
       "    }\n",
       "</style>\n",
       "<table border=\"1\" class=\"dataframe\">\n",
       "  <thead>\n",
       "    <tr style=\"text-align: right;\">\n",
       "      <th></th>\n",
       "      <th>rifugio_nome</th>\n",
       "      <th>standard_name</th>\n",
       "      <th>PT_TYPE</th>\n",
       "      <th>PT_CODE</th>\n",
       "      <th>PT_CCAT</th>\n",
       "      <th>PT_FABB</th>\n",
       "      <th>PT_PUB</th>\n",
       "      <th>geometry</th>\n",
       "    </tr>\n",
       "  </thead>\n",
       "  <tbody>\n",
       "    <tr>\n",
       "      <th>0</th>\n",
       "      <td>Alpe Pozza - \"V.Lancia\"</td>\n",
       "      <td>alpepozzavlancia</td>\n",
       "      <td>C</td>\n",
       "      <td>.690</td>\n",
       "      <td>404</td>\n",
       "      <td>N</td>\n",
       "      <td>YES</td>\n",
       "      <td>POLYGON ((11.14523 45.82734, 11.14514 45.82733...</td>\n",
       "    </tr>\n",
       "    <tr>\n",
       "      <th>1</th>\n",
       "      <td>Alpe Pozza - \"V.Lancia\"</td>\n",
       "      <td>alpepozzavlancia</td>\n",
       "      <td>P</td>\n",
       "      <td>.690</td>\n",
       "      <td>404</td>\n",
       "      <td>S</td>\n",
       "      <td>YES</td>\n",
       "      <td>POLYGON ((11.1448 45.82735, 11.14487 45.82735,...</td>\n",
       "    </tr>\n",
       "    <tr>\n",
       "      <th>2</th>\n",
       "      <td>Alpe Pozza - \"V.Lancia\"</td>\n",
       "      <td>alpepozzavlancia</td>\n",
       "      <td>C</td>\n",
       "      <td>.690</td>\n",
       "      <td>404</td>\n",
       "      <td>S</td>\n",
       "      <td>YES</td>\n",
       "      <td>POLYGON ((11.1448 45.82735, 11.1448 45.82735, ...</td>\n",
       "    </tr>\n",
       "    <tr>\n",
       "      <th>3</th>\n",
       "      <td>Altissimo - \"D.Chiesa\"</td>\n",
       "      <td>altissimodchiesa</td>\n",
       "      <td>P</td>\n",
       "      <td>.1367</td>\n",
       "      <td>44</td>\n",
       "      <td>N</td>\n",
       "      <td>YES</td>\n",
       "      <td>POLYGON ((10.89031 45.81007, 10.89031 45.81007...</td>\n",
       "    </tr>\n",
       "    <tr>\n",
       "      <th>4</th>\n",
       "      <td>Altissimo - \"D.Chiesa\"</td>\n",
       "      <td>altissimodchiesa</td>\n",
       "      <td>C</td>\n",
       "      <td>.1367</td>\n",
       "      <td>44</td>\n",
       "      <td>S</td>\n",
       "      <td>YES</td>\n",
       "      <td>POLYGON ((10.89047 45.81044, 10.89031 45.81042...</td>\n",
       "    </tr>\n",
       "  </tbody>\n",
       "</table>\n",
       "</div>"
      ],
      "text/plain": [
       "              rifugio_nome     standard_name PT_TYPE PT_CODE  PT_CCAT PT_FABB  \\\n",
       "0  Alpe Pozza - \"V.Lancia\"  alpepozzavlancia       C    .690      404       N   \n",
       "1  Alpe Pozza - \"V.Lancia\"  alpepozzavlancia       P    .690      404       S   \n",
       "2  Alpe Pozza - \"V.Lancia\"  alpepozzavlancia       C    .690      404       S   \n",
       "3   Altissimo - \"D.Chiesa\"  altissimodchiesa       P   .1367       44       N   \n",
       "4   Altissimo - \"D.Chiesa\"  altissimodchiesa       C   .1367       44       S   \n",
       "\n",
       "  PT_PUB                                           geometry  \n",
       "0    YES  POLYGON ((11.14523 45.82734, 11.14514 45.82733...  \n",
       "1    YES  POLYGON ((11.1448 45.82735, 11.14487 45.82735,...  \n",
       "2    YES  POLYGON ((11.1448 45.82735, 11.1448 45.82735, ...  \n",
       "3    YES  POLYGON ((10.89031 45.81007, 10.89031 45.81007...  \n",
       "4    YES  POLYGON ((10.89047 45.81044, 10.89031 45.81042...  "
      ]
     },
     "execution_count": 6,
     "metadata": {},
     "output_type": "execute_result"
    }
   ],
   "source": [
    "# Add names to each parcel using a merge with the .csv based on the 'PT_CODE'/codice_part_ed field\n",
    "polygons_gdf = polygons_gdf.merge(cadastre_huts_df[['codice_part_ed', 'rifugio_nome']], \n",
    "                                  left_on='PT_CODE', right_on='codice_part_ed', how='left')\n",
    "polygons_gdf = polygons_gdf.drop(columns=['codice_part_ed'])\n",
    "\n",
    "# Create standardized names column\n",
    "polygons_gdf['standard_name'] = polygons_gdf['rifugio_nome'].apply(standardize_name)\n",
    "\n",
    "# Reorder columns \n",
    "cols = list(polygons_gdf.columns)\n",
    "cols_to_move = ['rifugio_nome', 'standard_name']\n",
    "# remove from the list the columns to move \n",
    "for col in cols_to_move:\n",
    "    cols.remove(col)\n",
    "# add the columns to move at the beginning\n",
    "cols = cols_to_move + cols\n",
    "# reorder the GeoDataFrame\n",
    "polygons_gdf = polygons_gdf[cols]\n",
    "\n",
    "polygons_gdf.head(5)"
   ]
  },
  {
   "cell_type": "markdown",
   "metadata": {},
   "source": [
    "## Centroids"
   ]
  },
  {
   "cell_type": "code",
   "execution_count": 7,
   "metadata": {},
   "outputs": [
    {
     "data": {
      "text/html": [
       "<div>\n",
       "<style scoped>\n",
       "    .dataframe tbody tr th:only-of-type {\n",
       "        vertical-align: middle;\n",
       "    }\n",
       "\n",
       "    .dataframe tbody tr th {\n",
       "        vertical-align: top;\n",
       "    }\n",
       "\n",
       "    .dataframe thead th {\n",
       "        text-align: right;\n",
       "    }\n",
       "</style>\n",
       "<table border=\"1\" class=\"dataframe\">\n",
       "  <thead>\n",
       "    <tr style=\"text-align: right;\">\n",
       "      <th></th>\n",
       "      <th>rifugio_nome</th>\n",
       "      <th>standard_name</th>\n",
       "      <th>PT_TYPE</th>\n",
       "      <th>PT_CODE</th>\n",
       "      <th>PT_CCAT</th>\n",
       "      <th>PT_FABB</th>\n",
       "      <th>PT_PUB</th>\n",
       "      <th>geometry</th>\n",
       "      <th>centroid_x</th>\n",
       "      <th>centroid_y</th>\n",
       "    </tr>\n",
       "  </thead>\n",
       "  <tbody>\n",
       "    <tr>\n",
       "      <th>0</th>\n",
       "      <td>Alpe Pozza - \"V.Lancia\"</td>\n",
       "      <td>alpepozzavlancia</td>\n",
       "      <td>C</td>\n",
       "      <td>.690</td>\n",
       "      <td>404</td>\n",
       "      <td>N</td>\n",
       "      <td>YES</td>\n",
       "      <td>POLYGON ((11.14523 45.82734, 11.14514 45.82733...</td>\n",
       "      <td>11.144756</td>\n",
       "      <td>45.827381</td>\n",
       "    </tr>\n",
       "    <tr>\n",
       "      <th>1</th>\n",
       "      <td>Alpe Pozza - \"V.Lancia\"</td>\n",
       "      <td>alpepozzavlancia</td>\n",
       "      <td>P</td>\n",
       "      <td>.690</td>\n",
       "      <td>404</td>\n",
       "      <td>S</td>\n",
       "      <td>YES</td>\n",
       "      <td>POLYGON ((11.1448 45.82735, 11.14487 45.82735,...</td>\n",
       "      <td>11.144756</td>\n",
       "      <td>45.827381</td>\n",
       "    </tr>\n",
       "    <tr>\n",
       "      <th>2</th>\n",
       "      <td>Alpe Pozza - \"V.Lancia\"</td>\n",
       "      <td>alpepozzavlancia</td>\n",
       "      <td>C</td>\n",
       "      <td>.690</td>\n",
       "      <td>404</td>\n",
       "      <td>S</td>\n",
       "      <td>YES</td>\n",
       "      <td>POLYGON ((11.1448 45.82735, 11.1448 45.82735, ...</td>\n",
       "      <td>11.144756</td>\n",
       "      <td>45.827381</td>\n",
       "    </tr>\n",
       "    <tr>\n",
       "      <th>3</th>\n",
       "      <td>Altissimo - \"D.Chiesa\"</td>\n",
       "      <td>altissimodchiesa</td>\n",
       "      <td>P</td>\n",
       "      <td>.1367</td>\n",
       "      <td>44</td>\n",
       "      <td>N</td>\n",
       "      <td>YES</td>\n",
       "      <td>POLYGON ((10.89031 45.81007, 10.89031 45.81007...</td>\n",
       "      <td>10.890453</td>\n",
       "      <td>45.810334</td>\n",
       "    </tr>\n",
       "    <tr>\n",
       "      <th>4</th>\n",
       "      <td>Altissimo - \"D.Chiesa\"</td>\n",
       "      <td>altissimodchiesa</td>\n",
       "      <td>C</td>\n",
       "      <td>.1367</td>\n",
       "      <td>44</td>\n",
       "      <td>S</td>\n",
       "      <td>YES</td>\n",
       "      <td>POLYGON ((10.89047 45.81044, 10.89031 45.81042...</td>\n",
       "      <td>10.890453</td>\n",
       "      <td>45.810334</td>\n",
       "    </tr>\n",
       "  </tbody>\n",
       "</table>\n",
       "</div>"
      ],
      "text/plain": [
       "              rifugio_nome     standard_name PT_TYPE PT_CODE  PT_CCAT PT_FABB  \\\n",
       "0  Alpe Pozza - \"V.Lancia\"  alpepozzavlancia       C    .690      404       N   \n",
       "1  Alpe Pozza - \"V.Lancia\"  alpepozzavlancia       P    .690      404       S   \n",
       "2  Alpe Pozza - \"V.Lancia\"  alpepozzavlancia       C    .690      404       S   \n",
       "3   Altissimo - \"D.Chiesa\"  altissimodchiesa       P   .1367       44       N   \n",
       "4   Altissimo - \"D.Chiesa\"  altissimodchiesa       C   .1367       44       S   \n",
       "\n",
       "  PT_PUB                                           geometry  centroid_x  \\\n",
       "0    YES  POLYGON ((11.14523 45.82734, 11.14514 45.82733...   11.144756   \n",
       "1    YES  POLYGON ((11.1448 45.82735, 11.14487 45.82735,...   11.144756   \n",
       "2    YES  POLYGON ((11.1448 45.82735, 11.1448 45.82735, ...   11.144756   \n",
       "3    YES  POLYGON ((10.89031 45.81007, 10.89031 45.81007...   10.890453   \n",
       "4    YES  POLYGON ((10.89047 45.81044, 10.89031 45.81042...   10.890453   \n",
       "\n",
       "   centroid_y  \n",
       "0   45.827381  \n",
       "1   45.827381  \n",
       "2   45.827381  \n",
       "3   45.810334  \n",
       "4   45.810334  "
      ]
     },
     "execution_count": 7,
     "metadata": {},
     "output_type": "execute_result"
    }
   ],
   "source": [
    "# Group by 'rifugio_nome' and aggregate the geometries\n",
    "grouped = polygons_gdf.dissolve(by='standard_name')\n",
    "\n",
    "# Calculate the centroid for each group\n",
    "grouped['centroid'] = grouped.geometry.centroid\n",
    "\n",
    "# Merge the centroid back to the original polygons_gdf\n",
    "polygons_gdf = polygons_gdf.merge(grouped[['centroid']], on='standard_name', how='left')\n",
    "\n",
    "# Extract the x and y coordinates from the centroid (to keep only one geom column)\n",
    "polygons_gdf['centroid_x'] = polygons_gdf['centroid'].x\n",
    "polygons_gdf['centroid_y'] = polygons_gdf['centroid'].y\n",
    "\n",
    "# Drop the original centroid column if no longer needed\n",
    "polygons_gdf = polygons_gdf.drop(columns=['centroid'])\n",
    "\n",
    "polygons_gdf.head(5)"
   ]
  },
  {
   "cell_type": "code",
   "execution_count": 8,
   "metadata": {},
   "outputs": [],
   "source": [
    "# Save the final polygon GeoDataFrame\n",
    "polygons_gdf.to_file('../data/huts/huts_polygons.geojson')"
   ]
  },
  {
   "cell_type": "markdown",
   "metadata": {},
   "source": [
    "# SIAT points\n",
    "In the siat dataset '../data/huts/Rifugi_e_bivacchi.shp' each hut is represented as a point. From a quick look in QGIS, many fall within the cadastral polygons, but others are slightly off (~200m). For these cases, by comparing with an ortophoto, the SIAT points seem to be more precise than the cadastral polygons. Therefore it could be appropriate to also consider those.\n",
    "\n",
    "Using polygons or points will depend on the type of analysis. Therefore I store them in two separate GeoDataFrame and files, which can be accessed using the **standard_name** column (present in both).\n",
    "\n",
    "I will now create a the **huts_points** GeoDataFrame from the SIAT points and some basic information from SAT stored in '../data/huts/categorie_rifugi'. Steps:\n",
    "\n",
    "From siat_points_gdf:\n",
    "- create standard_name column: perform a fuzzy matching on nome_strut\n",
    "- get **quota, standard_name and geometry** columns\n",
    "\n",
    "From categorie_df:\n",
    "- get **categoria_CAISAT, categoria_PAT, posti_letto**"
   ]
  },
  {
   "cell_type": "code",
   "execution_count": 9,
   "metadata": {},
   "outputs": [],
   "source": [
    "siat_points_gdf = gpd.read_file('../data/huts/Rifugi_e_bivacchi.shp')\n",
    "polygons_gdf = gpd.read_file('../data/huts/huts_polygons.geojson')\n",
    "\n",
    "# Set to same crs as polygons_gdf (epsg.4326)\n",
    "siat_points_gdf = siat_points_gdf.to_crs(polygons_gdf.crs)\n",
    "# remove bivacchi\n",
    "siat_points_gdf = siat_points_gdf[siat_points_gdf['sottotipol'] != 'BIVACCO']"
   ]
  },
  {
   "cell_type": "markdown",
   "metadata": {},
   "source": [
    "## Standardize names"
   ]
  },
  {
   "cell_type": "code",
   "execution_count": 10,
   "metadata": {},
   "outputs": [
    {
     "name": "stdout",
     "output_type": "stream",
     "text": [
      "Match found: alpepozzavincenzolancia -> alpepozzavlancia\n",
      "Match found: altissimodamianochiesa -> altissimodchiesa\n",
      "Match found: antermoia -> antermoia\n",
      "Match found: bindesipinoprati -> bindesipprati\n",
      "Match found: boccaditratninopernici -> boccaditratnpernici\n",
      "Match found: boe -> boè\n",
      "Match found: carealtodanteongari -> carèaltodongari\n",
      "Match found: casarota -> casarotalciola\n",
      "Match found: cevedaleguidolarcher -> cevedaleglarcher\n",
      "Match found: ciampedie -> ciampediè\n",
      "Match found: cimadastaottonebrentari -> cimadastaobrentari\n",
      "Match found: dodiciapostoliflligarbari -> xiiapostoliflligarbari\n",
      "Match found: fftucketteqsella -> fftucketteqsella\n",
      "Match found: finonchiofllifilzi -> finonchiofllifilzi\n",
      "No match found for grostèggraffer. Best match was giorgiografferalgroste\n",
      "Match found: mandroncittaditrento -> mandroncittàditrento\n",
      "Match found: montecalinosanpietro -> montecalinosanpietro\n",
      "Match found: monzonitorquatotaramelli -> monzonittaramelli\n",
      "Match found: paludei -> paludei\n",
      "Match found: peller -> peller\n",
      "Match found: rodadivael -> rodadivael\n",
      "Match found: rosettagiovannipedrotti -> rosettagpedrotti\n",
      "Match found: saentsilviodorigoni -> saentsdorigoni\n",
      "Match found: setteselle -> setteselle\n",
      "No match found for stavelfdenza. Best match was stavelfrancescodenza\n",
      "Match found: stivoprosperomarchetti -> stivopmarchetti\n",
      "Match found: tosatommasopedrotti -> tosaetpedrotti\n",
      "Match found: vaiolet -> vaiolet\n",
      "Match found: valdambiezsilvioagostini -> valdambiezsagostini\n",
      "Match found: valdamolagiovannisegantini -> valdamolagsegantini\n",
      "Match found: valdifumo -> valdifumo\n",
      "Match found: velodellamadonna -> velomadonna\n",
      "Match found: viozmantova -> vioz\n"
     ]
    }
   ],
   "source": [
    "siat_points_gdf['standard_name'] = siat_points_gdf['nome_strut'].apply(standardize_name)\n",
    "\n",
    "missing_matches = {} # siat_name: polygon_name\n",
    "# Iterate over each row in polygons_gdf['standard_name']\n",
    "for polygon_name in polygons_gdf['standard_name'].unique(): \n",
    "    # Find the best match in siat_points_gdf['standard_name']\n",
    "    match, score = process.extractOne(polygon_name, siat_points_gdf['standard_name'].values)\n",
    "    if polygon_name == 'tosaetpedrotti': # problematicfor fuzzy matching\n",
    "        match = 'tosatommasopedrotti'\n",
    "    \n",
    "    # Set a similarity threshold\n",
    "    if score > 80 or polygon_name == 'tosaetpedrotti':\n",
    "        # Replace the matched name in siat_points_gdf with the one from polygons_gdf\n",
    "        #siat_points_gdf.loc[siat_points_gdf['standard_name'] == match, 'standard_name'] = polygon_name\n",
    "        siat_points_gdf['standard_name'] = siat_points_gdf['standard_name'].replace(match, polygon_name)\n",
    "        print(f\"Match found: {match} -> {polygon_name}\")\n",
    "    else:\n",
    "        missing_matches[match] = polygon_name\n",
    "        print(f\"No match found for {polygon_name}. Best match was {match}\")\n"
   ]
  },
  {
   "cell_type": "code",
   "execution_count": 11,
   "metadata": {},
   "outputs": [],
   "source": [
    "# Substitute the missing matches \n",
    "missing_matches\n",
    "\n",
    "for siat_name, polygon_name in missing_matches.items():\n",
    "    siat_points_gdf['standard_name'] = siat_points_gdf['standard_name'].replace(siat_name, polygon_name)\n",
    "\n",
    "# Filter only for names contained in polygons_gdf (SAT's huts)\n",
    "siat_points_gdf = siat_points_gdf[siat_points_gdf['standard_name'].isin(polygons_gdf['standard_name'])]\n",
    "siat_points_gdf = siat_points_gdf.sort_values(by='standard_name', ascending=True)\n",
    "\n",
    "# Check that all names in polygons are also in siat_points\n",
    "[name for name in polygons_gdf.standard_name.unique() if name not in siat_points_gdf.standard_name.unique()]"
   ]
  },
  {
   "cell_type": "markdown",
   "metadata": {},
   "source": [
    "## Merge with categories, etc.\n",
    "Select desired columns from categorie.csv and siat_points_gdf  to create a single gdf and save it in ../data/huts/huts_points.geojson"
   ]
  },
  {
   "cell_type": "code",
   "execution_count": 13,
   "metadata": {},
   "outputs": [
    {
     "data": {
      "text/html": [
       "<div>\n",
       "<style scoped>\n",
       "    .dataframe tbody tr th:only-of-type {\n",
       "        vertical-align: middle;\n",
       "    }\n",
       "\n",
       "    .dataframe tbody tr th {\n",
       "        vertical-align: top;\n",
       "    }\n",
       "\n",
       "    .dataframe thead th {\n",
       "        text-align: right;\n",
       "    }\n",
       "</style>\n",
       "<table border=\"1\" class=\"dataframe\">\n",
       "  <thead>\n",
       "    <tr style=\"text-align: right;\">\n",
       "      <th></th>\n",
       "      <th>rifugio_nome</th>\n",
       "      <th>categoria_CAISAT</th>\n",
       "      <th>categoria_PAT</th>\n",
       "      <th>quota</th>\n",
       "      <th>posti_letto</th>\n",
       "      <th>standard_name</th>\n",
       "    </tr>\n",
       "  </thead>\n",
       "  <tbody>\n",
       "    <tr>\n",
       "      <th>0</th>\n",
       "      <td>Alpe Pozza - \"V.Lancia\"</td>\n",
       "      <td>C</td>\n",
       "      <td>Alp</td>\n",
       "      <td>1.802</td>\n",
       "      <td>50</td>\n",
       "      <td>alpepozzavlancia</td>\n",
       "    </tr>\n",
       "    <tr>\n",
       "      <th>1</th>\n",
       "      <td>Altissimo - \"D.Chiesa\"</td>\n",
       "      <td>C</td>\n",
       "      <td>Alp</td>\n",
       "      <td>2.060</td>\n",
       "      <td>35</td>\n",
       "      <td>altissimodchiesa</td>\n",
       "    </tr>\n",
       "    <tr>\n",
       "      <th>2</th>\n",
       "      <td>Antermoia</td>\n",
       "      <td>D</td>\n",
       "      <td>Alp</td>\n",
       "      <td>2.496</td>\n",
       "      <td>61</td>\n",
       "      <td>antermoia</td>\n",
       "    </tr>\n",
       "    <tr>\n",
       "      <th>3</th>\n",
       "      <td>Bindesi - \"P.Prati\"</td>\n",
       "      <td>A</td>\n",
       "      <td>Escurs</td>\n",
       "      <td>611.000</td>\n",
       "      <td>0</td>\n",
       "      <td>bindesipprati</td>\n",
       "    </tr>\n",
       "    <tr>\n",
       "      <th>4</th>\n",
       "      <td>Bocca di Trat - \"N.Pernici\"</td>\n",
       "      <td>C</td>\n",
       "      <td>Alp</td>\n",
       "      <td>1.600</td>\n",
       "      <td>28</td>\n",
       "      <td>boccaditratnpernici</td>\n",
       "    </tr>\n",
       "  </tbody>\n",
       "</table>\n",
       "</div>"
      ],
      "text/plain": [
       "                  rifugio_nome categoria_CAISAT categoria_PAT    quota  \\\n",
       "0      Alpe Pozza - \"V.Lancia\"               C            Alp    1.802   \n",
       "1       Altissimo - \"D.Chiesa\"               C            Alp    2.060   \n",
       "2                    Antermoia                D           Alp    2.496   \n",
       "3          Bindesi - \"P.Prati\"                A        Escurs  611.000   \n",
       "4  Bocca di Trat - \"N.Pernici\"               C            Alp    1.600   \n",
       "\n",
       "   posti_letto        standard_name  \n",
       "0           50     alpepozzavlancia  \n",
       "1           35     altissimodchiesa  \n",
       "2           61            antermoia  \n",
       "3            0        bindesipprati  \n",
       "4           28  boccaditratnpernici  "
      ]
     },
     "execution_count": 13,
     "metadata": {},
     "output_type": "execute_result"
    }
   ],
   "source": [
    "# Load .csv\n",
    "categorie_df = pd.read_csv('../data/huts/categorie_rifugi.csv')\n",
    "categorie_df['standard_name'] = categorie_df['rifugio_nome'].apply(standardize_name)\n",
    "categorie_df.head(5)"
   ]
  },
  {
   "cell_type": "code",
   "execution_count": 14,
   "metadata": {},
   "outputs": [],
   "source": [
    "# Merge\n",
    "siat_points_gdf_merged = siat_points_gdf.merge(categorie_df, on='standard_name', how='left')\n",
    "\n",
    "# Keep only relevant columns\n",
    "siat_points_gdf_merged = siat_points_gdf_merged[['standard_name', 'nome_strut', 'categoria_CAISAT', 'categoria_PAT',\n",
    "        'posti_letto', 'quota_x', 'geometry']]\n",
    "\n",
    "# Column formatting\n",
    "siat_points_gdf_merged = siat_points_gdf_merged.rename(columns={'quota_x': 'quota'})\n",
    "siat_points_gdf_merged['quota'] = pd.to_numeric(siat_points_gdf_merged['quota'], errors='coerce')\n",
    "siat_points_gdf_merged['posti_letto'] = pd.to_numeric(siat_points_gdf_merged['posti_letto'], errors='coerce')\n",
    "\n",
    "# Set geometry from Multipoint to Point\n",
    "def convert_multipoint_to_point(geometry):\n",
    "    ''' convert MultiPoint to Point if it contains only one point '''\n",
    "    if isinstance(geometry, MultiPoint) and len(geometry.geoms) == 1:\n",
    "        return geometry.geoms[0]\n",
    "    return geometry\n",
    "\n",
    "# Apply the function to the geometry column of siat_points_gdf\n",
    "siat_points_gdf_merged['geometry'] = siat_points_gdf_merged['geometry'].apply(convert_multipoint_to_point)"
   ]
  },
  {
   "cell_type": "code",
   "execution_count": 15,
   "metadata": {},
   "outputs": [
    {
     "data": {
      "text/html": [
       "<div>\n",
       "<style scoped>\n",
       "    .dataframe tbody tr th:only-of-type {\n",
       "        vertical-align: middle;\n",
       "    }\n",
       "\n",
       "    .dataframe tbody tr th {\n",
       "        vertical-align: top;\n",
       "    }\n",
       "\n",
       "    .dataframe thead th {\n",
       "        text-align: right;\n",
       "    }\n",
       "</style>\n",
       "<table border=\"1\" class=\"dataframe\">\n",
       "  <thead>\n",
       "    <tr style=\"text-align: right;\">\n",
       "      <th></th>\n",
       "      <th>standard_name</th>\n",
       "      <th>nome_strut</th>\n",
       "      <th>categoria_CAISAT</th>\n",
       "      <th>categoria_PAT</th>\n",
       "      <th>posti_letto</th>\n",
       "      <th>quota</th>\n",
       "      <th>geometry</th>\n",
       "    </tr>\n",
       "  </thead>\n",
       "  <tbody>\n",
       "    <tr>\n",
       "      <th>0</th>\n",
       "      <td>alpepozzavlancia</td>\n",
       "      <td>ALPE POZZA \"VINCENZO LANCIA\"</td>\n",
       "      <td>C</td>\n",
       "      <td>Alp</td>\n",
       "      <td>50</td>\n",
       "      <td>1802</td>\n",
       "      <td>POINT (11.14471 45.82729)</td>\n",
       "    </tr>\n",
       "    <tr>\n",
       "      <th>1</th>\n",
       "      <td>altissimodchiesa</td>\n",
       "      <td>ALTISSIMO \"DAMIANO CHIESA\"</td>\n",
       "      <td>C</td>\n",
       "      <td>Alp</td>\n",
       "      <td>35</td>\n",
       "      <td>2060</td>\n",
       "      <td>POINT (10.89037 45.81038)</td>\n",
       "    </tr>\n",
       "    <tr>\n",
       "      <th>2</th>\n",
       "      <td>antermoia</td>\n",
       "      <td>ANTERMOIA</td>\n",
       "      <td>D</td>\n",
       "      <td>Alp</td>\n",
       "      <td>61</td>\n",
       "      <td>2496</td>\n",
       "      <td>POINT (11.66391 46.47703)</td>\n",
       "    </tr>\n",
       "    <tr>\n",
       "      <th>3</th>\n",
       "      <td>bindesipprati</td>\n",
       "      <td>BINDESI \"PINO PRATI\"</td>\n",
       "      <td>A</td>\n",
       "      <td>Escurs</td>\n",
       "      <td>0</td>\n",
       "      <td>618</td>\n",
       "      <td>POINT (11.15392 46.03619)</td>\n",
       "    </tr>\n",
       "    <tr>\n",
       "      <th>4</th>\n",
       "      <td>boccaditratnpernici</td>\n",
       "      <td>BOCCA DI TRAT \"NINO PERNICI\"</td>\n",
       "      <td>C</td>\n",
       "      <td>Alp</td>\n",
       "      <td>28</td>\n",
       "      <td>1601</td>\n",
       "      <td>POINT (10.76868 45.92663)</td>\n",
       "    </tr>\n",
       "  </tbody>\n",
       "</table>\n",
       "</div>"
      ],
      "text/plain": [
       "         standard_name                    nome_strut categoria_CAISAT  \\\n",
       "0     alpepozzavlancia  ALPE POZZA \"VINCENZO LANCIA\"               C    \n",
       "1     altissimodchiesa    ALTISSIMO \"DAMIANO CHIESA\"               C    \n",
       "2            antermoia                     ANTERMOIA                D   \n",
       "3        bindesipprati          BINDESI \"PINO PRATI\"                A   \n",
       "4  boccaditratnpernici  BOCCA DI TRAT \"NINO PERNICI\"               C    \n",
       "\n",
       "  categoria_PAT  posti_letto  quota                   geometry  \n",
       "0           Alp           50   1802  POINT (11.14471 45.82729)  \n",
       "1           Alp           35   2060  POINT (10.89037 45.81038)  \n",
       "2           Alp           61   2496  POINT (11.66391 46.47703)  \n",
       "3        Escurs            0    618  POINT (11.15392 46.03619)  \n",
       "4           Alp           28   1601  POINT (10.76868 45.92663)  "
      ]
     },
     "execution_count": 15,
     "metadata": {},
     "output_type": "execute_result"
    }
   ],
   "source": [
    "siat_points_gdf_merged.head(5)"
   ]
  },
  {
   "cell_type": "code",
   "execution_count": 16,
   "metadata": {},
   "outputs": [],
   "source": [
    "# Save to file\n",
    "siat_points_gdf_merged.to_file('../data/huts/huts_points.geojson')"
   ]
  },
  {
   "cell_type": "markdown",
   "metadata": {},
   "source": [
    "--------------"
   ]
  },
  {
   "cell_type": "markdown",
   "metadata": {},
   "source": [
    "# Plot: Centroids VS SIAT points"
   ]
  },
  {
   "cell_type": "code",
   "execution_count": 18,
   "metadata": {},
   "outputs": [
    {
     "data": {
      "image/png": "[encoded data removed]",
      "text/plain": [
       "<Figure size 640x480 with 1 Axes>"
      ]
     },
     "metadata": {},
     "output_type": "display_data"
    }
   ],
   "source": [
    "polygons_gdf = gpd.read_file('../data/huts/huts_polygons.geojson')\n",
    "points_gdf = gpd.read_file('../data/huts/huts_points.geojson')\n",
    "\n",
    "# Recover the centroid points from the x and y columns\n",
    "polygons_gdf['centroid'] = polygons_gdf.apply(lambda row: Point(row['centroid_x'], row['centroid_y']), axis=1)\n",
    "# Create a GeoDataFrame for centroids\n",
    "centroids_gdf = gpd.GeoDataFrame(polygons_gdf[['standard_name', 'centroid']], geometry='centroid')\n",
    "\n",
    "# Plotting\n",
    "fig, ax = plt.subplots()\n",
    "centroids_gdf.plot(ax=ax, color='blue', markersize=2, label='Centroids')\n",
    "points_gdf.plot(ax=ax, color='red', marker='o', markersize=2, label='SIAT Points')\n",
    "plt.title('Huts Centroids and SIAT Points')\n",
    "plt.legend()\n",
    "plt.show()\n",
    "\n",
    "# Delete centroid column (extra geometry)\n",
    "polygons_gdf = polygons_gdf.drop(columns=['centroid'])"
   ]
  },
  {
   "cell_type": "markdown",
   "metadata": {},
   "source": [
    "# Data Exploration\n"
   ]
  },
  {
   "cell_type": "markdown",
   "metadata": {},
   "source": [
    "Categoria CAISAT"
   ]
  },
  {
   "cell_type": "code",
   "execution_count": 22,
   "metadata": {},
   "outputs": [
    {
     "data": {
      "image/png": "[encoded data removed]",
      "text/plain": [
       "<Figure size 640x480 with 1 Axes>"
      ]
     },
     "metadata": {},
     "output_type": "display_data"
    }
   ],
   "source": [
    "# Plotting\n",
    "fig, ax = plt.subplots()\n",
    "points_gdf.plot(column='categoria_CAISAT', ax=ax, markersize=15, legend=True, cmap='Set1')\n",
    "ax.set_title('Categoria CAISAT')\n",
    "ax.set_xlabel('Longitude')\n",
    "ax.set_ylabel('Latitude')\n",
    "plt.show()"
   ]
  },
  {
   "cell_type": "code",
   "execution_count": 23,
   "metadata": {},
   "outputs": [
    {
     "data": {
      "text/plain": [
       "categoria_CAISAT\n",
       "D     16\n",
       "C     12\n",
       "A      3\n",
       "B      1\n",
       "E      1\n",
       "Name: count, dtype: int64"
      ]
     },
     "execution_count": 23,
     "metadata": {},
     "output_type": "execute_result"
    }
   ],
   "source": [
    "points_gdf['categoria_CAISAT'].value_counts()"
   ]
  },
  {
   "cell_type": "markdown",
   "metadata": {},
   "source": [
    "Categoria PAT"
   ]
  },
  {
   "cell_type": "code",
   "execution_count": 24,
   "metadata": {},
   "outputs": [
    {
     "data": {
      "image/png": "[encoded data removed]",
      "text/plain": [
       "<Figure size 640x480 with 1 Axes>"
      ]
     },
     "metadata": {},
     "output_type": "display_data"
    }
   ],
   "source": [
    "# Plotting\n",
    "fig, ax = plt.subplots()\n",
    "points_gdf.plot(column='categoria_PAT', ax=ax, markersize=15, legend=True, cmap='Set1')\n",
    "ax.set_title('Categoria PAT')\n",
    "ax.set_xlabel('Longitude')\n",
    "ax.set_ylabel('Latitude')\n",
    "plt.show()"
   ]
  },
  {
   "cell_type": "markdown",
   "metadata": {},
   "source": [
    "Elevation"
   ]
  },
  {
   "cell_type": "code",
   "execution_count": 28,
   "metadata": {},
   "outputs": [
    {
     "data": {
      "image/png": "[encoded data removed]",
      "text/plain": [
       "<Figure size 640x480 with 1 Axes>"
      ]
     },
     "metadata": {},
     "output_type": "display_data"
    }
   ],
   "source": [
    "quota_data = points_gdf['quota']\n",
    "\n",
    "# Plot the histogram\n",
    "plt.figure()\n",
    "plt.hist(quota_data, bins=30, edgecolor='black')\n",
    "plt.title('Histogram of Elevation')\n",
    "plt.xlabel('Elevation (m/slm)')\n",
    "plt.ylabel('Frequency')\n",
    "plt.show()"
   ]
  }
 ],
 "metadata": {
  "kernelspec": {
   "display_name": "venv",
   "language": "python",
   "name": "python3"
  },
  "language_info": {
   "codemirror_mode": {
    "name": "ipython",
    "version": 3
   },
   "file_extension": ".py",
   "mimetype": "text/x-python",
   "name": "python",
   "nbconvert_exporter": "python",
   "pygments_lexer": "ipython3",
   "version": "3.10.7"
  }
 },
 "nbformat": 4,
 "nbformat_minor": 2
}
