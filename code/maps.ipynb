{
 "cells": [
  {
   "cell_type": "markdown",
   "metadata": {},
   "source": [
    "SCRIPT CRS: EPSG:32632"
   ]
  },
  {
   "cell_type": "code",
   "execution_count": null,
   "metadata": {},
   "outputs": [],
   "source": [
    "import geopandas as gpd\n",
    "import numpy as np\n",
    "import os\n",
    "import rasterio\n",
    "from rasterio.features import geometry_mask\n",
    "from scipy.ndimage import distance_transform_edt\n",
    "from rasterio.plot import show\n",
    "import matplotlib.pyplot as plt\n",
    "from rasterio.features import rasterize\n",
    "from shapely.geometry import box\n",
    "from scipy.ndimage import convolve\n",
    "\n",
    "import functions as fun"
   ]
  },
  {
   "cell_type": "markdown",
   "metadata": {},
   "source": [
    "# Load DEM\n",
    "First I load the DEM since it is the base of all maps I will create."
   ]
  },
  {
   "cell_type": "code",
   "execution_count": null,
   "metadata": {},
   "outputs": [],
   "source": [
    "with rasterio.open('../data/terrain/tinitaly_dem10m.tif') as src:\n",
    "    dem = src.read(1)  # DEM data\n",
    "    dem_transform = src.transform  # Affine transform for georeferencing\n",
    "    dem_crs = src.crs \n",
    "    dem_profile = src.profile\n",
    "    dem_shape = src.shape\n",
    "    dem_bounds = src.bounds  # (left, bottom, right, top)\n"
   ]
  },
  {
   "cell_type": "markdown",
   "metadata": {},
   "source": [
    "# 1. Accessibility\n",
    "## 1.1 Distance from trails\n",
    "Compute the eucledian distance from the nearest hiking trail for each cell in the DEM. Then, standardize it so that the value is 1 when the distance is zero and decreases until becoming zero for distances of more than 500m."
   ]
  },
  {
   "cell_type": "code",
   "execution_count": null,
   "metadata": {},
   "outputs": [],
   "source": [
    "# Load trails gdf\n",
    "trails_gdf = gpd.read_file('../data/trails/Sentieri_della_SAT.shp')\n",
    "trails_gdf = trails_gdf.to_crs(dem_crs)"
   ]
  },
  {
   "cell_type": "code",
   "execution_count": null,
   "metadata": {},
   "outputs": [],
   "source": [
    "# Create a binary mask where cells with trails are False\n",
    "trail_mask = geometry_mask([geom for geom in trails_gdf.geometry], \n",
    "                           out_shape=dem.shape,\n",
    "                           transform=dem_transform, \n",
    "                           invert=True)\n",
    "\n",
    "# Compute the Euclidean distance transform on the binary mask\n",
    "distance_array = distance_transform_edt(~trail_mask) * src.res[0]\n",
    "standardized_distance = np.clip(1 - (distance_array / 500), 0, 1)\n"
   ]
  },
  {
   "cell_type": "code",
   "execution_count": null,
   "metadata": {},
   "outputs": [],
   "source": [
    "# Plot trail distance map\n",
    "fig, ax = plt.subplots(figsize=(10, 10))\n",
    "show(standardized_distance, transform=dem_transform, cmap='YlGn', ax=ax)\n",
    "plt.colorbar(ax.imshow(standardized_distance, cmap='YlGn'), ax=ax, label='Normalized Distance to Nearest Trail')\n",
    "ax.set_title(\"Proximity to Hiking Trails\")\n",
    "plt.show()"
   ]
  },
  {
   "cell_type": "code",
   "execution_count": null,
   "metadata": {},
   "outputs": [],
   "source": [
    "# Save raster map\n",
    "#fun.save_raster_map(standardized_distance, dem_profile, filename='standardized_distance_trails')"
   ]
  },
  {
   "cell_type": "markdown",
   "metadata": {},
   "source": [
    "## 1.2 Hut's density\n",
    "For each cell, count the number of huts within a 50m buffer. The results are standardized so that a value of 1 indicates the maximum number of huts observed for a cell and 0 is where there are no huts."
   ]
  },
  {
   "cell_type": "code",
   "execution_count": null,
   "metadata": {},
   "outputs": [],
   "source": [
    "def compute_density(points_gdf, radius=10, per_km2=True, dem_shape=dem_shape, dem_transform=dem_transform):\n",
    "    ''' Compute density of points (water sources, huts, etc..) by rasterizing them.\n",
    "\n",
    "    Parameters:\n",
    "    - points_gdf: gdf containing points\n",
    "    - radius: radius of kernel [number of cells]\n",
    "    - per_mk2: if True, return density per km2, else return density per kernel area\n",
    "\n",
    "    Returns:\n",
    "    - density np.ndarray \n",
    "    '''\n",
    "    # Rasterize water (binary raster)\n",
    "    points_raster = rasterize(\n",
    "        [(geom, 1) for geom in points_gdf.geometry],\n",
    "        out_shape=dem_shape,\n",
    "        transform=dem_transform,\n",
    "        fill=0,\n",
    "        dtype='float'\n",
    "    )\n",
    "    print(f\"Number of cells: {np.sum(points_raster==0)}\")\n",
    "    print(f\"Cells with water: {np.sum(points_raster==1)}\")\n",
    "\n",
    "    # Create a circular kernel\n",
    "    kernel = circular_kernel(radius)\n",
    "    resolution = 10 # not changeable\n",
    "    cell_area = resolution**2  # area of one cell [m²]\n",
    "    kernel_area = kernel.sum() * cell_area  # total area covered by the kernel [m²]\n",
    "\n",
    "    # Apply convolution to compute number of springs per kernel area\n",
    "    density_raster = convolve(points_raster, kernel, mode='constant', cval=0.0)\n",
    "    if np.all(density_raster == 0):\n",
    "        raise ValueError(\"Density is all zero, check for errors.\")\n",
    "        \n",
    "    # Convert to springs per km²\n",
    "    density_raster_km2 = density_raster * (1_000_000 / kernel_area)\n",
    "\n",
    "    return density_raster_km2 if per_km2 else density_raster\n",
    "\n",
    "def circular_kernel(radius):\n",
    "    y, x = np.ogrid[-radius:radius+1, -radius:radius+1]\n",
    "    mask = x**2 + y**2 <= radius**2\n",
    "    return mask.astype(float) # sum of values in the area"
   ]
  },
  {
   "cell_type": "code",
   "execution_count": null,
   "metadata": {},
   "outputs": [],
   "source": [
    "# Load huts\n",
    "huts_gdf = gpd.read_file('../data/huts/huts_points.geojson')\n",
    "huts_gdf = huts_gdf.to_crs(dem_crs)"
   ]
  },
  {
   "cell_type": "code",
   "execution_count": null,
   "metadata": {},
   "outputs": [],
   "source": [
    "huts_density_km2 = compute_density(huts_gdf)\n",
    "# Optional: Normalize the density\n",
    "normalized_density_raster = huts_density_km2 / huts_density_km2.max()"
   ]
  },
  {
   "cell_type": "markdown",
   "metadata": {},
   "source": [
    "# 2. Environmental quality\n",
    "## 2.1 Distance from protected areas\n",
    "For each cell, compute the distance from the closest natural park. Results are standardized so a value of 1 indicates distance of 0m and decreases until zero for a distance >= 1km. "
   ]
  },
  {
   "cell_type": "code",
   "execution_count": null,
   "metadata": {},
   "outputs": [],
   "source": [
    "# Load protected areas polygons\n",
    "natural_parks = gpd.read_file('../data/others/nat_parks/z307_p_pup.shp')\n",
    "natural_parks = natural_parks.to_crs(dem_crs)"
   ]
  },
  {
   "cell_type": "code",
   "execution_count": null,
   "metadata": {},
   "outputs": [],
   "source": [
    "# Create a binary mask where cells with trails are False\n",
    "park_mask = geometry_mask([geom for geom in natural_parks.geometry], \n",
    "                           out_shape=dem.shape,\n",
    "                           transform=dem_transform, \n",
    "                           invert=True)\n",
    "\n",
    "# Compute the Euclidean distance transform on the binary mask\n",
    "distance_array = distance_transform_edt(~park_mask) * src.res[0]\n",
    "standardized_distance = np.clip(1 - (distance_array / 1000), 0, 1)"
   ]
  },
  {
   "cell_type": "code",
   "execution_count": null,
   "metadata": {},
   "outputs": [],
   "source": [
    "# Save raster map\n",
    "#fun.save_raster_map(standardized_distance, dem_profile, filename='standardized_distance_parks')"
   ]
  },
  {
   "cell_type": "code",
   "execution_count": null,
   "metadata": {},
   "outputs": [],
   "source": [
    "fig, ax = plt.subplots(figsize=(8, 8))\n",
    "show(standardized_distance, transform=dem_transform, cmap='YlGn', ax=ax)\n",
    "plt.colorbar(ax.imshow(standardized_distance, cmap='YlGn'), ax=ax, label='Normalized Distance to Nearest Natural Park')\n",
    "ax.set_title(\"Proximity to Natural Parks\")\n",
    "plt.show()"
   ]
  },
  {
   "cell_type": "markdown",
   "metadata": {},
   "source": [
    "# Distance from superficial waters"
   ]
  },
  {
   "cell_type": "code",
   "execution_count": null,
   "metadata": {},
   "outputs": [],
   "source": [
    "def load_water_data(path, dem_crs=dem_crs, dem_bounds=dem_bounds): \n",
    "    water_gdf = gpd.read_file(path)\n",
    "    water_gdf = water_gdf.to_crs(dem_crs)\n",
    "    # Clip using DEM\n",
    "    dem_bbox = box(dem_bounds.left, dem_bounds.bottom, dem_bounds.right, dem_bounds.top)\n",
    "    clipped_gdf = water_gdf[water_gdf.geometry.within(dem_bbox)]\n",
    "    print(f\"Number of water points: {len(clipped_gdf)}\")\n",
    "    return clipped_gdf"
   ]
  },
  {
   "cell_type": "code",
   "execution_count": null,
   "metadata": {},
   "outputs": [],
   "source": [
    "# Load data\n",
    "superficial_gdf = load_water_data('../data/water/carta_ris_idriche/pup_as/pup_as.shp')\n",
    "# Compute density\n",
    "density_raster_km2 = compute_density(superficial_gdf, per_km2=True)\n",
    "# Optional: Normalize the density \n",
    "normalized_density_raster = density_raster_km2 / density_raster_km2.max()"
   ]
  },
  {
   "cell_type": "code",
   "execution_count": null,
   "metadata": {},
   "outputs": [],
   "source": [
    "# Save raster map\n",
    "#fun.save_raster_map(normalized_density_raster, dem_profile, filename='norm_density_superficialwaters_km2')"
   ]
  },
  {
   "cell_type": "markdown",
   "metadata": {},
   "source": [
    "# Distance from springs "
   ]
  },
  {
   "cell_type": "code",
   "execution_count": null,
   "metadata": {},
   "outputs": [],
   "source": [
    "# Load data\n",
    "springs_gdf = load_water_data('../data/water/carta_ris_idriche/pup_so/pup_so.shp')\n",
    "# Compute density\n",
    "density_raster_km2 = compute_density(springs_gdf, per_km2=True)\n",
    "# Optional: Normalize the density\n",
    "normalized_density_raster = density_raster_km2 / density_raster_km2.max()"
   ]
  },
  {
   "cell_type": "code",
   "execution_count": null,
   "metadata": {},
   "outputs": [],
   "source": [
    "# Save raster map\n",
    "#fun.save_raster_map(normalized_density_raster, dem_profile, filename='norm_density_springs_km2')"
   ]
  },
  {
   "cell_type": "code",
   "execution_count": null,
   "metadata": {},
   "outputs": [],
   "source": [
    "# Assuming spring_raster is a 2D NumPy array\n",
    "plt.figure(figsize=(10, 8))\n",
    "plt.imshow(density_raster_km2, cmap='binary_r', interpolation='nearest')\n",
    "plt.colorbar(label='Normalized Spring Presence')\n",
    "plt.title('Water Springs Density')\n",
    "plt.xlabel('Columns')\n",
    "plt.ylabel('Rows')\n",
    "plt.show()"
   ]
  },
  {
   "cell_type": "markdown",
   "metadata": {},
   "source": [
    "# Distance from water-wells"
   ]
  },
  {
   "cell_type": "code",
   "execution_count": null,
   "metadata": {},
   "outputs": [],
   "source": [
    "# Load data\n",
    "wells_gdf = load_water_data('../data/water/carta_ris_idriche/pup_po/pup_po.shp')\n",
    "# Compute density\n",
    "density_raster_km2 = compute_density(wells_gdf, per_km2=True)\n",
    "# Optional: Normalize the density \n",
    "normalized_density_raster = density_raster_km2 / density_raster_km2.max()"
   ]
  },
  {
   "cell_type": "code",
   "execution_count": null,
   "metadata": {},
   "outputs": [],
   "source": [
    "# Save raster map\n",
    "#fun.save_raster_map(normalized_density_raster, dem_profile, filename='norm_density_waterwells_km2')"
   ]
  }
 ],
 "metadata": {
  "kernelspec": {
   "display_name": "venv",
   "language": "python",
   "name": "python3"
  },
  "language_info": {
   "codemirror_mode": {
    "name": "ipython",
    "version": 3
   },
   "file_extension": ".py",
   "mimetype": "text/x-python",
   "name": "python",
   "nbconvert_exporter": "python",
   "pygments_lexer": "ipython3",
   "version": "3.10.7"
  }
 },
 "nbformat": 4,
 "nbformat_minor": 2
}
